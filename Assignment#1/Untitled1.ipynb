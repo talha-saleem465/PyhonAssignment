{
 "cells": [
  {
   "cell_type": "code",
   "execution_count": 1,
   "id": "6724aa21",
   "metadata": {},
   "outputs": [
    {
     "name": "stdout",
     "output_type": "stream",
     "text": [
      "3.9.7 (default, Sep 16 2021, 16:59:28) [MSC v.1916 64 bit (AMD64)]\n"
     ]
    }
   ],
   "source": [
    "# program for python version\n",
    "import sys\n",
    "print (sys.version)"
   ]
  },
  {
   "cell_type": "code",
   "execution_count": 5,
   "id": "d268c9f4",
   "metadata": {},
   "outputs": [
    {
     "name": "stdout",
     "output_type": "stream",
     "text": [
      "Current date and time : \n",
      "01-01-2022 10:35:57\n"
     ]
    }
   ],
   "source": [
    "#program for currrent date time\n",
    "import datetime\n",
    "now = datetime.datetime.now()\n",
    "print (\"Current date and time : \")\n",
    "print (now.strftime(\"%d-%m-%Y %H:%M:%S\"))"
   ]
  },
  {
   "cell_type": "code",
   "execution_count": 7,
   "id": "ae1a4b4c",
   "metadata": {},
   "outputs": [
    {
     "name": "stdout",
     "output_type": "stream",
     "text": [
      "Input Your First Name : talha\n",
      "Input Your Last Name : khan\n",
      "khan talha\n"
     ]
    }
   ],
   "source": [
    "#program for reverse order name print\n",
    "firstname = input(\"Input Your First Name : \")\n",
    "lastname = input(\"Input Your Last Name : \")\n",
    "print (lastname + \" \" + firstname)"
   ]
  },
  {
   "cell_type": "code",
   "execution_count": 9,
   "id": "8c570ebc",
   "metadata": {},
   "outputs": [
    {
     "name": "stdout",
     "output_type": "stream",
     "text": [
      "Input Your First number : 5\n",
      "Input Your Second  number: 5\n",
      "10\n"
     ]
    }
   ],
   "source": [
    "# program for addition of number\n",
    "firstnum = int(input(\"Input Your First number : \"))\n",
    "secondnum = int(input(\"Input Your Second  number: \"))\n",
    "sumnum=firstnum + secondnum\n",
    "print (sumnum)"
   ]
  },
  {
   "cell_type": "code",
   "execution_count": 4,
   "id": "a030127a",
   "metadata": {},
   "outputs": [
    {
     "name": "stdout",
     "output_type": "stream",
     "text": [
      "Enter Radius of Cricle5\n",
      "Area of the circle is: 78.53981633974483\n"
     ]
    }
   ],
   "source": [
    "# program for area of circle\n",
    "from math import pi\n",
    "radius=float(input(\"Enter Radius of Cricle\"))\n",
    "print(\"Area of the circle is: \" + str(pi * radius**2))"
   ]
  },
  {
   "cell_type": "code",
   "execution_count": null,
   "id": "402f4cac",
   "metadata": {},
   "outputs": [],
   "source": []
  }
 ],
 "metadata": {
  "kernelspec": {
   "display_name": "Python 3 (ipykernel)",
   "language": "python",
   "name": "python3"
  },
  "language_info": {
   "codemirror_mode": {
    "name": "ipython",
    "version": 3
   },
   "file_extension": ".py",
   "mimetype": "text/x-python",
   "name": "python",
   "nbconvert_exporter": "python",
   "pygments_lexer": "ipython3",
   "version": "3.9.7"
  }
 },
 "nbformat": 4,
 "nbformat_minor": 5
}
